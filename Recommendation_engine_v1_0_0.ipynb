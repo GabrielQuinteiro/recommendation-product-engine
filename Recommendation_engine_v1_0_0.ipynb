{
  "metadata": {
    "kernelspec": {
      "language": "python",
      "display_name": "Python 3",
      "name": "python3"
    },
    "language_info": {
      "pygments_lexer": "ipython3",
      "nbconvert_exporter": "python",
      "version": "3.6.4",
      "file_extension": ".py",
      "codemirror_mode": {
        "name": "ipython",
        "version": 3
      },
      "name": "python",
      "mimetype": "text/x-python"
    },
    "colab": {
      "provenance": [],
      "include_colab_link": true
    }
  },
  "nbformat_minor": 0,
  "nbformat": 4,
  "cells": [
    {
      "cell_type": "markdown",
      "metadata": {
        "id": "view-in-github",
        "colab_type": "text"
      },
      "source": [
        "<a href=\"https://colab.research.google.com/github/GabrielQuinteiro/recommendation-product-engine/blob/main/Recommendation_engine_v1_0_0.ipynb\" target=\"_parent\"><img src=\"https://colab.research.google.com/assets/colab-badge.svg\" alt=\"Open In Colab\"/></a>"
      ]
    },
    {
      "cell_type": "markdown",
      "source": [
        "# Recommendation Engine with PySpark\n",
        "\n",
        "<font size=3>This recommendation engine uses implicit feedback data from an e-commerce website, which includes user interactions such as views, carts, and purchases. [Dataset Link](https://www.kaggle.com/datasets/mkechinov/ecommerce-behavior-data-from-multi-category-store)\n",
        "\n",
        "<font size=3>The engine provides personalized recommendations to users by using matrix factorization with the Alternating Least Squares algorithm along with other features such as purchase per view. Additionally, it identifies substitute and supplementary products by comparing their vectors using the Locality Sensitive Hashing algorithm.\n",
        "\n",
        "<font size=3>By improving the user experience and increasing customer satisfaction and retention, the project aimes to increase sales and profit on the platform. The highly personalized nature of the recommendation scores make this engine a valuable tool for any e-commerce company looking to improve their product recommendations."
      ],
      "metadata": {
        "id": "jsfICwvd47fN"
      }
    },
    {
      "cell_type": "code",
      "source": [
        "!pip install pyspark\n",
        "!pip install -U -q PyDrive\n",
        "!apt install openjdk-8-jdk-headless -qq\n",
        "import os\n",
        "os.environ[\"JAVA_HOME\"] = \"/usr/lib/jvm/java-8-openjdk-amd64\""
      ],
      "metadata": {
        "id": "vPctkxuQRaYU"
      },
      "execution_count": null,
      "outputs": []
    },
    {
      "cell_type": "code",
      "source": [
        "import pandas as pd\n",
        "import numpy as np\n",
        "import os\n",
        "import sys\n",
        "import math\n",
        "from pyspark.sql import SparkSession\n",
        "from pyspark.context import SparkContext\n",
        "from pyspark.sql.functions import *\n",
        "import pyspark.sql.functions as f\n",
        "from pyspark.sql.types import DoubleType\n",
        "import matplotlib.pyplot as plt\n",
        "import pyarrow\n",
        "\n",
        "import pyspark.sql.functions as f\n",
        "from pyspark.sql.types import DoubleType"
      ],
      "metadata": {
        "trusted": true,
        "id": "LzGe26aq47fO"
      },
      "execution_count": null,
      "outputs": []
    },
    {
      "cell_type": "code",
      "source": [
        "from google.colab import drive\n",
        "drive.mount('/content/drive')"
      ],
      "metadata": {
        "colab": {
          "base_uri": "https://localhost:8080/"
        },
        "id": "7S4P0t49DkTV",
        "outputId": "34056816-0cbd-4390-95de-ed98f74a7c69"
      },
      "execution_count": null,
      "outputs": [
        {
          "output_type": "stream",
          "name": "stdout",
          "text": [
            "Drive already mounted at /content/drive; to attempt to forcibly remount, call drive.mount(\"/content/drive\", force_remount=True).\n"
          ]
        }
      ]
    },
    {
      "cell_type": "code",
      "source": [
        "# Initialize Spark session\n",
        "\n",
        "sc = SparkSession.builder.appName(\"Product_Recommendation\") \\\n",
        ".config (\"spark.sql.shuffle.partitions\", \"16\") \\\n",
        ".config(\"spark.driver.maxResultSize\",\"4g\") \\\n",
        ".config (\"spark.sql.execution.arrow.enabled\", \"true\") \\\n",
        ".config(\"spark.driver.memory\", \"4g\") \\\n",
        ".config(\"spark.executor.cores\", \"4\") \\\n",
        ".getOrCreate()\n",
        "\n",
        "sc.sparkContext.setLogLevel(\"ERROR\")"
      ],
      "metadata": {
        "id": "3iKhyRmV47fP"
      },
      "execution_count": null,
      "outputs": []
    },
    {
      "cell_type": "code",
      "source": [
        "df = sc.read.option('header', True).csv('/content/drive/MyDrive/ColabNotebooks/2019-Nov.csv')\n",
        "df = df.sample(0.001, seed=321)"
      ],
      "metadata": {
        "id": "XhuWbKH547fP"
      },
      "execution_count": null,
      "outputs": []
    },
    {
      "cell_type": "code",
      "source": [
        "df.printSchema()"
      ],
      "metadata": {
        "id": "L4o24cVf47fP",
        "colab": {
          "base_uri": "https://localhost:8080/"
        },
        "outputId": "a3d42ebd-8048-4e35-b93c-786731118207"
      },
      "execution_count": null,
      "outputs": [
        {
          "output_type": "stream",
          "name": "stdout",
          "text": [
            "root\n",
            " |-- event_time: string (nullable = true)\n",
            " |-- event_type: string (nullable = true)\n",
            " |-- product_id: string (nullable = true)\n",
            " |-- category_id: string (nullable = true)\n",
            " |-- category_code: string (nullable = true)\n",
            " |-- brand: string (nullable = true)\n",
            " |-- price: string (nullable = true)\n",
            " |-- user_id: string (nullable = true)\n",
            " |-- user_session: string (nullable = true)\n",
            "\n"
          ]
        }
      ]
    },
    {
      "cell_type": "code",
      "source": [
        "df.show(5, truncate=False)"
      ],
      "metadata": {
        "id": "T5DnTg5347fQ",
        "colab": {
          "base_uri": "https://localhost:8080/"
        },
        "outputId": "1ccc477e-d6e7-4e10-b5f8-0ccec6f37f4b"
      },
      "execution_count": null,
      "outputs": [
        {
          "output_type": "stream",
          "name": "stdout",
          "text": [
            "+-----------------------+----------+----------+-------------------+-------------------------+------+------+---------+------------------------------------+\n",
            "|event_time             |event_type|product_id|category_id        |category_code            |brand |price |user_id  |user_session                        |\n",
            "+-----------------------+----------+----------+-------------------+-------------------------+------+------+---------+------------------------------------+\n",
            "|2019-11-01 00:00:00 UTC|view      |1003461   |2053013555631882655|electronics.smartphone   |xiaomi|489.07|520088904|4d3b30da-a5e4-49df-b1a8-ba5943f1dd33|\n",
            "|2019-11-01 00:00:00 UTC|view      |5000088   |2053013566100866035|appliances.sewing_machine|janome|293.65|530496790|8e5f4f83-366c-4f70-860e-ca7417414283|\n",
            "|2019-11-01 00:00:01 UTC|view      |17302664  |2053013553853497655|NULL                     |creed |28.31 |561587266|755422e7-9040-477b-9bd2-6a6e8fd97387|\n",
            "|2019-11-01 00:00:01 UTC|view      |3601530   |2053013563810775923|appliances.kitchen.washer|lg    |712.87|518085591|3bfb58cd-7892-48cc-8020-2f17e6de6e7f|\n",
            "|2019-11-01 00:00:01 UTC|view      |1004775   |2053013555631882655|electronics.smartphone   |xiaomi|183.27|558856683|313628f1-68b8-460d-84f6-cec7a8796ef2|\n",
            "+-----------------------+----------+----------+-------------------+-------------------------+------+------+---------+------------------------------------+\n",
            "only showing top 5 rows\n",
            "\n"
          ]
        }
      ]
    },
    {
      "cell_type": "markdown",
      "source": [
        "## Exploratory Data Analysis"
      ],
      "metadata": {
        "id": "BdPmtcrW47fQ"
      }
    },
    {
      "cell_type": "code",
      "source": [
        "# Null values\n",
        "\n",
        "df.select([count(when(isnull(c), c)).alias(c) for c in df.columns]).show()"
      ],
      "metadata": {
        "id": "8E5MabgK47fQ",
        "colab": {
          "base_uri": "https://localhost:8080/"
        },
        "outputId": "130443a8-9d8d-4eb5-f77c-6b1b91741761"
      },
      "execution_count": null,
      "outputs": [
        {
          "output_type": "stream",
          "name": "stdout",
          "text": [
            "+----------+----------+----------+-----------+-------------+-------+-----+-------+------------+\n",
            "|event_time|event_type|product_id|category_id|category_code|  brand|price|user_id|user_session|\n",
            "+----------+----------+----------+-----------+-------------+-------+-----+-------+------------+\n",
            "|         0|         0|         0|          0|     21898171|9218235|    0|      0|          10|\n",
            "+----------+----------+----------+-----------+-------------+-------+-----+-------+------------+\n",
            "\n"
          ]
        }
      ]
    },
    {
      "cell_type": "code",
      "source": [
        "# Number of events\n",
        "\n",
        "df.groupBy('event_type').count().show()"
      ],
      "metadata": {
        "id": "N88fvCkg47fR",
        "colab": {
          "base_uri": "https://localhost:8080/"
        },
        "outputId": "37ea3ec2-df77-4622-dff2-f64a1196dfb9"
      },
      "execution_count": null,
      "outputs": [
        {
          "output_type": "stream",
          "name": "stdout",
          "text": [
            "+----------+--------+\n",
            "|event_type|   count|\n",
            "+----------+--------+\n",
            "|      cart| 3028930|\n",
            "|  purchase|  916939|\n",
            "|      view|63556110|\n",
            "+----------+--------+\n",
            "\n"
          ]
        }
      ]
    },
    {
      "cell_type": "code",
      "source": [
        "# Plot events distribution\n",
        "\n",
        "events = df.groupBy('event_type').count().toPandas()\n",
        "events.plot(kind='pie', y='count', labels=events['event_type'], autopct='%1.2f%%', figsize=(5, 5))"
      ],
      "metadata": {
        "id": "cXfxma_B47fS",
        "colab": {
          "base_uri": "https://localhost:8080/",
          "height": 440
        },
        "outputId": "74dea6b5-658a-4906-ac77-95aa95bd78c1"
      },
      "execution_count": null,
      "outputs": [
        {
          "output_type": "execute_result",
          "data": {
            "text/plain": [
              "<Axes: ylabel='count'>"
            ]
          },
          "metadata": {},
          "execution_count": 15
        },
        {
          "output_type": "display_data",
          "data": {
            "text/plain": [
              "<Figure size 500x500 with 1 Axes>"
            ],
            "image/png": "[encoded data removed]"
          },
          "metadata": {}
        }
      ]
    },
    {
      "cell_type": "code",
      "source": [
        "df.select(f.countDistinct(\"product_id\")).show()\n",
        "\n",
        "# 190k products"
      ],
      "metadata": {
        "id": "oISn4Riw47fS",
        "colab": {
          "base_uri": "https://localhost:8080/"
        },
        "outputId": "bf0f3c64-b696-41b6-82eb-f7fbc32ae975"
      },
      "execution_count": null,
      "outputs": [
        {
          "output_type": "stream",
          "name": "stdout",
          "text": [
            "+--------------------------+\n",
            "|count(DISTINCT product_id)|\n",
            "+--------------------------+\n",
            "|                    190662|\n",
            "+--------------------------+\n",
            "\n"
          ]
        }
      ]
    },
    {
      "cell_type": "markdown",
      "source": [
        "<font size=3>Check whether all products belong to a single category by grouping products by their ID, collecting their category IDs into a set, and printing the number of products that belong to a single category."
      ],
      "metadata": {
        "id": "hGfILIth47fS"
      }
    },
    {
      "cell_type": "code",
      "source": [
        "df.groupby('product_id').agg(f.collect_set('category_id'))\\\n",
        "                        .filter(size(col('collect_set(category_id)')) == 1).count()\n",
        "\n",
        "# All products belong to a single category"
      ],
      "metadata": {
        "id": "7THC0s9z47fT",
        "colab": {
          "base_uri": "https://localhost:8080/"
        },
        "outputId": "4df5b886-d899-40f3-e3fe-09a622ec4280"
      },
      "execution_count": null,
      "outputs": [
        {
          "output_type": "execute_result",
          "data": {
            "text/plain": [
              "190662"
            ]
          },
          "metadata": {},
          "execution_count": 17
        }
      ]
    },
    {
      "cell_type": "code",
      "source": [
        "df.select(f.countDistinct(\"category_id\")).show()\n",
        "\n",
        "# 684 categories"
      ],
      "metadata": {
        "id": "gGCtY1X847fT",
        "colab": {
          "base_uri": "https://localhost:8080/"
        },
        "outputId": "4aa75457-e60f-40b7-e1a9-8e1ca3e5baa0"
      },
      "execution_count": null,
      "outputs": [
        {
          "output_type": "stream",
          "name": "stdout",
          "text": [
            "+---------------------------+\n",
            "|count(DISTINCT category_id)|\n",
            "+---------------------------+\n",
            "|                        684|\n",
            "+---------------------------+\n",
            "\n"
          ]
        }
      ]
    },
    {
      "cell_type": "code",
      "source": [
        "df.drop_duplicates(subset=['category_id']).select(f.count(\"category_code\")).show()\n",
        "\n",
        "# Some categories (275/684) have a category code represantation"
      ],
      "metadata": {
        "id": "RuKeDqKb47fT",
        "colab": {
          "base_uri": "https://localhost:8080/"
        },
        "outputId": "365d729f-7fe0-436d-c78a-fcf6d381f204"
      },
      "execution_count": null,
      "outputs": [
        {
          "output_type": "stream",
          "name": "stdout",
          "text": [
            "+--------------------+\n",
            "|count(category_code)|\n",
            "+--------------------+\n",
            "|                 275|\n",
            "+--------------------+\n",
            "\n"
          ]
        }
      ]
    },
    {
      "cell_type": "code",
      "source": [
        "df.select(f.countDistinct(\"category_code\")).show()\n",
        "\n",
        "# 129 distinct category code represantations, some categories (146/275) have the same category codes"
      ],
      "metadata": {
        "id": "rPRSJgcG47fT",
        "colab": {
          "base_uri": "https://localhost:8080/"
        },
        "outputId": "8972262d-bc47-417b-ff4a-f471ad339fd9"
      },
      "execution_count": null,
      "outputs": [
        {
          "output_type": "stream",
          "name": "stdout",
          "text": [
            "+-----------------------------+\n",
            "|count(DISTINCT category_code)|\n",
            "+-----------------------------+\n",
            "|                          129|\n",
            "+-----------------------------+\n",
            "\n"
          ]
        }
      ]
    },
    {
      "cell_type": "code",
      "source": [
        "df.select(f.countDistinct(\"user_id\")).show()\n",
        "\n",
        "# 3.7m users in one month"
      ],
      "metadata": {
        "id": "-XskR8Ca47fT",
        "colab": {
          "base_uri": "https://localhost:8080/"
        },
        "outputId": "355ae13b-0af7-4040-9d01-aaaa92306932"
      },
      "execution_count": null,
      "outputs": [
        {
          "output_type": "stream",
          "name": "stdout",
          "text": [
            "+-----------------------+\n",
            "|count(DISTINCT user_id)|\n",
            "+-----------------------+\n",
            "|                3696117|\n",
            "+-----------------------+\n",
            "\n"
          ]
        }
      ]
    },
    {
      "cell_type": "code",
      "source": [
        "df.select(f.countDistinct(\"user_session\")).show()\n",
        "\n",
        "# 13.8m sessions"
      ],
      "metadata": {
        "id": "deTROgj947fU",
        "colab": {
          "base_uri": "https://localhost:8080/"
        },
        "outputId": "8ecd60f9-6792-4c14-d35e-c0cfc76d91b1"
      },
      "execution_count": null,
      "outputs": [
        {
          "output_type": "stream",
          "name": "stdout",
          "text": [
            "+----------------------------+\n",
            "|count(DISTINCT user_session)|\n",
            "+----------------------------+\n",
            "|                    13776050|\n",
            "+----------------------------+\n",
            "\n"
          ]
        }
      ]
    },
    {
      "cell_type": "code",
      "source": [
        "# Plot the daily number of sessions\n",
        "\n",
        "df = df.withColumn('event_time', to_timestamp('event_time'))\n",
        "df = df.withColumn('date', date_format(\"event_time\", \"yyyy-MM-dd\"))\n",
        "\n",
        "sessions = df.groupby('date').agg(countDistinct('user_session')).toPandas()\n",
        "sessions.sort_values('date').plot(x='date', figsize=(8, 4))"
      ],
      "metadata": {
        "id": "jZG0xx6s47fU",
        "colab": {
          "base_uri": "https://localhost:8080/",
          "height": 421
        },
        "outputId": "aa1ee12a-d38d-42aa-fafd-8aa072a248bd"
      },
      "execution_count": null,
      "outputs": [
        {
          "output_type": "execute_result",
          "data": {
            "text/plain": [
              "<Axes: xlabel='date'>"
            ]
          },
          "metadata": {},
          "execution_count": 23
        },
        {
          "output_type": "display_data",
          "data": {
            "text/plain": [
              "<Figure size 800x400 with 1 Axes>"
            ],
            "image/png": "[encoded data removed]"
          },
          "metadata": {}
        }
      ]
    },
    {
      "cell_type": "markdown",
      "source": [
        "<font size=3>The number of sessions increased noticeably between November 15th-18th, which could be attributed to an advertising campaign or promotional activity.\n",
        "\n",
        "<font size=3>On the other hand, the dataset has a small number of sessions for December 1st, which should not have been present in the November dataset."
      ],
      "metadata": {
        "id": "tbIFUDaX47fU"
      }
    },
    {
      "cell_type": "code",
      "source": [
        "# Print the number of interactions between users and products, sorted by carts\n",
        "\n",
        "interactions = df.groupby(['user_id', 'product_id']).agg(sum(when(df['event_type'] == 'view', 1)).alias('views'),\n",
        "                                                         sum(when(df['event_type'] == 'cart', 1)).alias('carts'),\n",
        "                                                         sum(when(df['event_type'] == 'purchase', 1)).alias('purchases'))\n",
        "\n",
        "interactions.sort('carts', ascending=False).show()"
      ],
      "metadata": {
        "scrolled": true,
        "id": "Y8D6GBtA47fU",
        "colab": {
          "base_uri": "https://localhost:8080/"
        },
        "outputId": "d9bc211d-e42f-4e2b-f376-f1f98c140e22"
      },
      "execution_count": null,
      "outputs": [
        {
          "output_type": "stream",
          "name": "stdout",
          "text": [
            "+---------+----------+-----+-----+---------+\n",
            "|  user_id|product_id|views|carts|purchases|\n",
            "+---------+----------+-----+-----+---------+\n",
            "|512875426|  15300303|    2|  709|     NULL|\n",
            "|521558076|   1005008|   18|  554|        1|\n",
            "|571769879|  12720043|    5|  354|        1|\n",
            "|513824664|   3601489|   12|  273|     NULL|\n",
            "|515642515|  13101546|   38|  237|     NULL|\n",
            "|564808105|   1002633|   22|  210|     NULL|\n",
            "|564068124|   1004833|  294|  207|      216|\n",
            "|513754375|  50600004|    6|  203|     NULL|\n",
            "|514553781|   1004856|    4|  192|        1|\n",
            "|515911561|   1004858|    7|  191|     NULL|\n",
            "|557590749|   8800045|    2|  186|     NULL|\n",
            "|549030056|   1004856|  193|  181|      118|\n",
            "|559057489|   3700912|    2|  174|     NULL|\n",
            "|538042220|  12720092|    2|  168|        1|\n",
            "|515793237|  22700078|   31|  164|     NULL|\n",
            "|543128872|   4804056|  190|  154|      150|\n",
            "|515032042|   1004873|   19|  152|        1|\n",
            "|571683521|   1004870|   16|  151|        1|\n",
            "|518514099|   1005116|  158|  147|      140|\n",
            "|564068124|   1004767|  204|  145|      152|\n",
            "+---------+----------+-----+-----+---------+\n",
            "only showing top 20 rows\n",
            "\n"
          ]
        }
      ]
    },
    {
      "cell_type": "markdown",
      "source": [
        "<font size=3>The data reveals a significant number of user-product pairs having a large number of carts, but very few views and purchases.\n",
        "\n",
        "<font size=3>Further analysis shows that many of these cart events occurred during the same session, which could be due to users repeatedly adding and removing the product.\n",
        "\n",
        "<font size=3>However, the data does not contain information on remove from cart events, thus we should restrict the number of carts to one per session for each user-product pair."
      ],
      "metadata": {
        "id": "jPXHKm9Z47fU"
      }
    },
    {
      "cell_type": "markdown",
      "source": [
        "## Preprocess"
      ],
      "metadata": {
        "id": "TKCZ1HgY47fU"
      }
    },
    {
      "cell_type": "code",
      "source": [
        "def preprocess(df):\n",
        "\n",
        "    # Change data types\n",
        "    df = df.withColumn('event_time', to_timestamp('event_time'))\n",
        "    df = df.withColumn('user_id', col('user_id').cast('integer'))\n",
        "    df = df.withColumn('product_id', col('product_id').cast('integer'))\n",
        "    df = df.withColumn('category_id', col('category_id').cast('long'))\n",
        "\n",
        "    # Limit the number of carts to 1 per session for each user-product pair\n",
        "    cart_df = df.filter(col('event_type') == 'cart')\n",
        "    df = df.filter(col('event_type') != 'cart')\n",
        "    cart_df = cart_df.dropDuplicates(subset=['product_id', 'user_id', 'user_session'])\n",
        "    df = df.union(cart_df)\n",
        "\n",
        "    # Split category codes into sub categories\n",
        "    #df = df.withColumn('category', split(df['category_code'], '\\.').getItem(0)) \\\n",
        "    #   .withColumn('sub_category', split(df['category_code'], '\\.').getItem(1)) \\\n",
        "    #   .withColumn('sub_sub_category', split(df['category_code'], '\\.').getItem(2))\n",
        "\n",
        "    return df"
      ],
      "metadata": {
        "id": "gOZajyR247fU"
      },
      "execution_count": null,
      "outputs": []
    },
    {
      "cell_type": "code",
      "source": [
        "df = preprocess(df)"
      ],
      "metadata": {
        "id": "VyN6QSJ747fV"
      },
      "execution_count": null,
      "outputs": []
    },
    {
      "cell_type": "markdown",
      "source": [
        "## Feature Engineering"
      ],
      "metadata": {
        "id": "Ys9avhjg47fV"
      }
    },
    {
      "cell_type": "markdown",
      "source": [
        "<font size=3>We can extract several features for users, products and categories using the behavioral data:\n",
        "\n",
        "\n",
        "- Views/carts/purchases: The number of times a user has interacted with a product.\n",
        "\n",
        "\n",
        "- Distinct products viewed/carted/purchased: The number of unique products a user has viewed, added to their cart, or purchased.\n",
        "\n",
        "\n",
        "- Average (relative) price viewed/purchased: The average price of products a user has viewed or purchased.\n",
        "\n",
        "\n",
        "- Interaction rates: These are derived features that provide insights into the behavior of users, such as the purchase per view, cart per view, and purchase per cart rate."
      ],
      "metadata": {
        "id": "tOJrhLP847fZ"
      }
    },
    {
      "cell_type": "code",
      "source": [
        "def product_features(df):\n",
        "\n",
        "    # Calculate several metrics for products with the aggregate function\n",
        "    df = df.groupby('product_id').agg(first('category_id').alias('category_id'),\n",
        "                                      first('category_code').alias('category_code'),\n",
        "                                      count(when(df['event_type'] == 'view', True)).alias('views'),\n",
        "                                      count(when(df['event_type'] == 'cart', True)).alias('carts'),\n",
        "                                      count(when(df['event_type'] == 'purchase', True)).alias('purchases'),\n",
        "                                      mean('price').alias('price'),\n",
        "                                      min('event_time').alias('first_date'),\n",
        "                                      max('event_time').alias('last_date'))\n",
        "\n",
        "    # Calculate interaction rates\n",
        "    df = df.withColumn('purchase_per_view', df['purchases'] / df['views'])\n",
        "    df = df.withColumn('cart_per_view', df['carts'] / df['views'])\n",
        "    df = df.withColumn('purchase_per_cart', when(df['carts'] == 0, df['purchases']).otherwise(df['purchases'] / df['carts']))\n",
        "\n",
        "    return df"
      ],
      "metadata": {
        "id": "67-jJFz747fZ"
      },
      "execution_count": null,
      "outputs": []
    },
    {
      "cell_type": "code",
      "source": [
        "def category_features(df):\n",
        "\n",
        "    # Calculate the average product price for each category\n",
        "    products = df.dropDuplicates(subset=['product_id'])\n",
        "    products = products.groupby('category_id').agg(avg('price').alias('average_price'))\n",
        "\n",
        "    # Calculate several metrics for categories with the aggregate function\n",
        "    df = df.groupby('category_id').agg(first('category_code').alias('category_code'),\n",
        "                                       countDistinct('product_id').alias('number_of_products'),\n",
        "                                       count(when(df['event_type'] == 'view', True)).alias('views'),\n",
        "                                       count(when(df['event_type'] == 'cart', True)).alias('carts'),\n",
        "                                       count(when(df['event_type'] == 'purchase', True)).alias('purchases'))\n",
        "\n",
        "    # Calculate interaction rates\n",
        "    df = df.withColumn('purchase_per_view', df['purchases'] / df['views'])\n",
        "    df = df.withColumn('cart_per_view', df['carts'] / df['views'])\n",
        "    df = df.withColumn('purchase_per_cart', when(df['carts'] == 0, df['purchases']).otherwise(df['purchases'] / df['carts']))\n",
        "\n",
        "    df = df.join(products, on='category_id')\n",
        "\n",
        "    return df"
      ],
      "metadata": {
        "id": "uGYMn-1l47fZ"
      },
      "execution_count": null,
      "outputs": []
    },
    {
      "cell_type": "code",
      "source": [
        "def user_features(df):\n",
        "\n",
        "    # Calculate several metrics for users with the aggregate function\n",
        "    df = df.groupby('user_id').agg(count(when(df['event_type'] == 'view', True)).alias('views'),\n",
        "                                   count(when(df['event_type'] == 'cart', True)).alias('carts'),\n",
        "                                   count(when(df['event_type'] == 'purchase', True)).alias('purchases'),\n",
        "                                   countDistinct(when(df['event_type'] == 'view', col('product_id'))).alias('distinct_products_viewed'),\n",
        "                                   countDistinct(when(df['event_type'] == 'cart', col('product_id'))).alias('distinct_products_carted'),\n",
        "                                   countDistinct(when(df['event_type'] == 'purchase', col('product_id'))).alias('distinct_products_purchased'),\n",
        "                                   mean(when(df['event_type'] == 'view', col('price'))).alias('average_price_viewed'),\n",
        "                                   mean(when(df['event_type'] == 'purchase', col('price'))).alias('average_price_purchased'),\n",
        "                                   mean(when(df['event_type'] == 'view', col('relative_price'))).alias('avg_relative_price_viewed'),\n",
        "                                   mean(when(df['event_type'] == 'purchase', col('relative_price'))).alias('avg_relative_price_purchased'),\n",
        "                                   min('event_time').alias('first_date'),\n",
        "                                   max('event_time').alias('last_date'))\n",
        "\n",
        "    # Calculate interaction rates\n",
        "    df = df.withColumn('purchase_per_view', when(df['views'] == 0, df['purchases']).otherwise(df['purchases'] / df['views']))\n",
        "    df = df.withColumn('cart_per_view', when(df['views'] == 0, df['carts']).otherwise(df['carts'] / df['views']))\n",
        "    df = df.withColumn('purchase_per_cart', when(df['carts'] == 0, df['purchases']).otherwise(df['purchases'] / df['carts']))\n",
        "\n",
        "    return df"
      ],
      "metadata": {
        "id": "8j6GXKjl47fa"
      },
      "execution_count": null,
      "outputs": []
    },
    {
      "cell_type": "markdown",
      "source": [
        "<font size=3>Some products and categories have very few interactions, this makes their interaction rates unreliable. For example, a product that has been viewed only 2 times and purchased 1 time would have a purchase per view rate of 0.5, which is very high. Therefore, it's important to apply smoothing to avoid overfitting on small sample sizes.\n",
        "\n",
        "<font size=3>The smoothing works by taking a weighted average of the product's rate and the category's rate. The weight given to the product's rate depends on the number of interactions, with more weight given to the product's rate as the number of interactions increases. The same smoothing is applied to categories as well, using the overall average interaction rates."
      ],
      "metadata": {
        "id": "vteZDyKx47fa"
      }
    },
    {
      "cell_type": "code",
      "source": [
        "# Calculate smoothed rates for categories with small sample size using means of all products to combat overfitting\n",
        "\n",
        "def category_smoothener(categories, mean, attr, rate, min_sample_size=1000):\n",
        "\n",
        "    # Weighted average of category value and overall mean\n",
        "    categories = categories.withColumn(rate, when(categories[attr] < min_sample_size, ((categories[rate] * categories[attr]) + (mean * (min_sample_size - categories[attr]))) / min_sample_size).otherwise(categories[rate]))\n",
        "\n",
        "    return categories"
      ],
      "metadata": {
        "id": "2BQGypLx47fa"
      },
      "execution_count": null,
      "outputs": []
    },
    {
      "cell_type": "code",
      "source": [
        "# Calculate smoothed rates for products with small sample size using category means to combat overfitting\n",
        "\n",
        "def product_smoothener(products, categories, attr, rate, min_sample_size=1000):\n",
        "\n",
        "    category_rate = rate + '_cat'\n",
        "    categories = categories.withColumnRenamed(rate, category_rate)\n",
        "    products = products.join(categories['category_id', category_rate], on='category_id')\n",
        "\n",
        "    # Weighted average of product value and category value\n",
        "    products = products.withColumn(rate, when(products[attr] < min_sample_size, ((products[rate] * products[attr]) + (products[category_rate] * (min_sample_size - products[attr]))) / min_sample_size).otherwise(products[rate]))\n",
        "\n",
        "    products = products.drop(category_rate)\n",
        "    return products"
      ],
      "metadata": {
        "id": "8_WtnhoC47fa"
      },
      "execution_count": null,
      "outputs": []
    },
    {
      "cell_type": "markdown",
      "source": [
        "<font size=3>We must calculate the relative price of each product with respect to its category by scaling its price based on the median and Inter Quartile Range of the category's prices. The median is used as a measure of central tendency and the IQR as a measure of variability.\n",
        "\n",
        "<font size=3>This scaling accounts for differences in price ranges across categories, enabling us to compare product prices across categories more accurately and without bias. Relative prices will be used to determine if users have a tendency to interact with cheaper or more expensive products."
      ],
      "metadata": {
        "id": "kPV3sPa247fb"
      }
    },
    {
      "cell_type": "code",
      "source": [
        "# Calculate the price of each product relative to its category using the formula: (price - median) / IQR\n",
        "\n",
        "def calculate_relative_price(products):\n",
        "\n",
        "    categories = products.groupby('category_id').agg(percentile_approx('price', 0.25, 1000).alias('Q1'),\n",
        "                                                     percentile_approx('price', 0.5, 1000).alias('median'),\n",
        "                                                     percentile_approx('price', 0.75, 1000).alias('Q3'))\n",
        "    # Interquartile range\n",
        "    categories = categories.withColumn('IQR', col('Q3') - col('Q1'))\n",
        "    categories = categories.withColumn('IQR', when(col('IQR') < 1, 1).otherwise(col('IQR')))\n",
        "\n",
        "    # Calculate relative price\n",
        "    products = products.join(categories, on='category_id')\n",
        "    products = products.withColumn('relative_price', (col('price') - col('median')) / col('IQR'))\n",
        "\n",
        "    # In order to avoid extreme values, set the max possible value to 5\n",
        "    products = products.withColumn('relative_price', when(col('relative_price') > 5, 5).otherwise(col('relative_price')))\n",
        "\n",
        "    # Set the min possible value to -5\n",
        "    products = products.withColumn('relative_price', when(col('relative_price') < -5, -5).otherwise(col('relative_price')))\n",
        "\n",
        "    products = products.select('product_id', 'relative_price')\n",
        "    return products"
      ],
      "metadata": {
        "id": "dOodnSQl47fb"
      },
      "execution_count": null,
      "outputs": []
    },
    {
      "cell_type": "code",
      "source": [
        "# Extract product and category features\n",
        "\n",
        "products = product_features(df)\n",
        "categories = category_features(df)"
      ],
      "metadata": {
        "id": "NDXI_iVc47fb"
      },
      "execution_count": null,
      "outputs": []
    },
    {
      "cell_type": "code",
      "source": [
        "# Calculate relative prices and append it to the main dataframe and product features\n",
        "\n",
        "relative_prices = calculate_relative_price(products)\n",
        "\n",
        "df = df.join(relative_prices, on='product_id')\n",
        "products = products.join(relative_prices, on='product_id')"
      ],
      "metadata": {
        "id": "AyjmHxZ147fb"
      },
      "execution_count": null,
      "outputs": []
    },
    {
      "cell_type": "code",
      "source": [
        "# Calculate the average interaction rates for all products to smooth category features with low interaction\n",
        "\n",
        "avg_purchase_per_view = events[events['event_type'] == 'purchase']['count'].values[0] / events[events['event_type'] == 'view']['count'].values[0]\n",
        "avg_cart_per_view = events[events['event_type'] == 'cart']['count'].values[0] / events[events['event_type'] == 'view']['count'].values[0]\n",
        "avg_purchase_per_cart = events[events['event_type'] == 'purchase']['count'].values[0] / events[events['event_type'] == 'cart']['count'].values[0]\n",
        "\n",
        "categories = category_smoothener(categories, avg_purchase_per_view, 'views', 'purchase_per_view', 2000)\n",
        "categories = category_smoothener(categories, avg_cart_per_view, 'views', 'cart_per_view', 2000)\n",
        "categories = category_smoothener(categories, avg_purchase_per_cart, 'carts', 'purchase_per_cart', 200)"
      ],
      "metadata": {
        "id": "IMiy3Gdo47fb"
      },
      "execution_count": null,
      "outputs": []
    },
    {
      "cell_type": "code",
      "source": [
        "# Smooth product features with low interaction using corresponding category features\n",
        "\n",
        "products = product_smoothener(products, categories, 'views', 'purchase_per_view', 1000)\n",
        "products = product_smoothener(products, categories, 'views', 'cart_per_view', 1000)\n",
        "products = product_smoothener(products, categories, 'carts', 'purchase_per_cart', 100)"
      ],
      "metadata": {
        "id": "VL48yqa-47fb"
      },
      "execution_count": null,
      "outputs": []
    },
    {
      "cell_type": "code",
      "source": [
        "# Extract user features\n",
        "\n",
        "users = user_features(df)"
      ],
      "metadata": {
        "id": "dWBssmIC47fc"
      },
      "execution_count": null,
      "outputs": []
    },
    {
      "cell_type": "code",
      "source": [
        "# Top 50 products in terms of purchases\n",
        "\n",
        "products.sort('purchases', ascending=False).toPandas().head(50)"
      ],
      "metadata": {
        "id": "EwWBz0cJ47fc",
        "colab": {
          "base_uri": "https://localhost:8080/",
          "height": 961
        },
        "outputId": "f89ce446-54c9-416b-bb7f-71a78b347e4c"
      },
      "execution_count": null,
      "outputs": [
        {
          "output_type": "stream",
          "name": "stderr",
          "text": [
            "ERROR:root:KeyboardInterrupt while sending command.\n",
            "Traceback (most recent call last):\n",
            "  File \"/usr/local/lib/python3.10/dist-packages/pyspark/sql/pandas/conversion.py\", line 280, in _collect_as_arrow\n",
            "    results = list(batch_stream)\n",
            "  File \"/usr/local/lib/python3.10/dist-packages/pyspark/sql/pandas/serializers.py\", line 69, in load_stream\n",
            "    for batch in self.serializer.load_stream(stream):\n",
            "  File \"/usr/local/lib/python3.10/dist-packages/pyspark/sql/pandas/serializers.py\", line 111, in load_stream\n",
            "    reader = pa.ipc.open_stream(stream)\n",
            "  File \"/usr/local/lib/python3.10/dist-packages/pyarrow/ipc.py\", line 190, in open_stream\n",
            "    return RecordBatchStreamReader(source, options=options,\n",
            "  File \"/usr/local/lib/python3.10/dist-packages/pyarrow/ipc.py\", line 52, in __init__\n",
            "    self._open(source, options=options, memory_pool=memory_pool)\n",
            "  File \"pyarrow/ipc.pxi\", line 929, in pyarrow.lib._RecordBatchStreamReader._open\n",
            "  File \"pyarrow/error.pxi\", line 154, in pyarrow.lib.pyarrow_internal_check_status\n",
            "  File \"pyarrow/types.pxi\", line 88, in pyarrow.lib._datatype_to_pep3118\n",
            "  File \"/usr/lib/python3.10/socket.py\", line 705, in readinto\n",
            "    return self._sock.recv_into(b)\n",
            "KeyboardInterrupt\n",
            "\n",
            "During handling of the above exception, another exception occurred:\n",
            "\n",
            "Traceback (most recent call last):\n",
            "  File \"/usr/local/lib/python3.10/dist-packages/py4j/java_gateway.py\", line 1038, in send_command\n",
            "    response = connection.send_command(command)\n",
            "  File \"/usr/local/lib/python3.10/dist-packages/py4j/clientserver.py\", line 511, in send_command\n",
            "    answer = smart_decode(self.stream.readline()[:-1])\n",
            "  File \"/usr/lib/python3.10/socket.py\", line 705, in readinto\n",
            "    return self._sock.recv_into(b)\n",
            "KeyboardInterrupt\n"
          ]
        },
        {
          "output_type": "error",
          "ename": "KeyboardInterrupt",
          "evalue": "",
          "traceback": [
            "\u001b[0;31m---------------------------------------------------------------------------\u001b[0m",
            "\u001b[0;31mKeyboardInterrupt\u001b[0m                         Traceback (most recent call last)",
            "\u001b[0;32m/usr/local/lib/python3.10/dist-packages/pyspark/sql/pandas/conversion.py\u001b[0m in \u001b[0;36m_collect_as_arrow\u001b[0;34m(self, split_batches)\u001b[0m\n\u001b[1;32m    279\u001b[0m             \u001b[0;32melse\u001b[0m\u001b[0;34m:\u001b[0m\u001b[0;34m\u001b[0m\u001b[0;34m\u001b[0m\u001b[0m\n\u001b[0;32m--> 280\u001b[0;31m                 \u001b[0mresults\u001b[0m \u001b[0;34m=\u001b[0m \u001b[0mlist\u001b[0m\u001b[0;34m(\u001b[0m\u001b[0mbatch_stream\u001b[0m\u001b[0;34m)\u001b[0m\u001b[0;34m\u001b[0m\u001b[0;34m\u001b[0m\u001b[0m\n\u001b[0m\u001b[1;32m    281\u001b[0m         \u001b[0;32mfinally\u001b[0m\u001b[0;34m:\u001b[0m\u001b[0;34m\u001b[0m\u001b[0;34m\u001b[0m\u001b[0m\n",
            "\u001b[0;32m/usr/local/lib/python3.10/dist-packages/pyspark/sql/pandas/serializers.py\u001b[0m in \u001b[0;36mload_stream\u001b[0;34m(self, stream)\u001b[0m\n\u001b[1;32m     68\u001b[0m         \u001b[0;31m# load the batches\u001b[0m\u001b[0;34m\u001b[0m\u001b[0;34m\u001b[0m\u001b[0m\n\u001b[0;32m---> 69\u001b[0;31m         \u001b[0;32mfor\u001b[0m \u001b[0mbatch\u001b[0m \u001b[0;32min\u001b[0m \u001b[0mself\u001b[0m\u001b[0;34m.\u001b[0m\u001b[0mserializer\u001b[0m\u001b[0;34m.\u001b[0m\u001b[0mload_stream\u001b[0m\u001b[0;34m(\u001b[0m\u001b[0mstream\u001b[0m\u001b[0;34m)\u001b[0m\u001b[0;34m:\u001b[0m\u001b[0;34m\u001b[0m\u001b[0;34m\u001b[0m\u001b[0m\n\u001b[0m\u001b[1;32m     70\u001b[0m             \u001b[0;32myield\u001b[0m \u001b[0mbatch\u001b[0m\u001b[0;34m\u001b[0m\u001b[0;34m\u001b[0m\u001b[0m\n",
            "\u001b[0;32m/usr/local/lib/python3.10/dist-packages/pyspark/sql/pandas/serializers.py\u001b[0m in \u001b[0;36mload_stream\u001b[0;34m(self, stream)\u001b[0m\n\u001b[1;32m    110\u001b[0m \u001b[0;34m\u001b[0m\u001b[0m\n\u001b[0;32m--> 111\u001b[0;31m         \u001b[0mreader\u001b[0m \u001b[0;34m=\u001b[0m \u001b[0mpa\u001b[0m\u001b[0;34m.\u001b[0m\u001b[0mipc\u001b[0m\u001b[0;34m.\u001b[0m\u001b[0mopen_stream\u001b[0m\u001b[0;34m(\u001b[0m\u001b[0mstream\u001b[0m\u001b[0;34m)\u001b[0m\u001b[0;34m\u001b[0m\u001b[0;34m\u001b[0m\u001b[0m\n\u001b[0m\u001b[1;32m    112\u001b[0m         \u001b[0;32mfor\u001b[0m \u001b[0mbatch\u001b[0m \u001b[0;32min\u001b[0m \u001b[0mreader\u001b[0m\u001b[0;34m:\u001b[0m\u001b[0;34m\u001b[0m\u001b[0;34m\u001b[0m\u001b[0m\n",
            "\u001b[0;32m/usr/local/lib/python3.10/dist-packages/pyarrow/ipc.py\u001b[0m in \u001b[0;36mopen_stream\u001b[0;34m(source, options, memory_pool)\u001b[0m\n\u001b[1;32m    189\u001b[0m     \"\"\"\n\u001b[0;32m--> 190\u001b[0;31m     return RecordBatchStreamReader(source, options=options,\n\u001b[0m\u001b[1;32m    191\u001b[0m                                    memory_pool=memory_pool)\n",
            "\u001b[0;32m/usr/local/lib/python3.10/dist-packages/pyarrow/ipc.py\u001b[0m in \u001b[0;36m__init__\u001b[0;34m(self, source, options, memory_pool)\u001b[0m\n\u001b[1;32m     51\u001b[0m         \u001b[0moptions\u001b[0m \u001b[0;34m=\u001b[0m \u001b[0m_ensure_default_ipc_read_options\u001b[0m\u001b[0;34m(\u001b[0m\u001b[0moptions\u001b[0m\u001b[0;34m)\u001b[0m\u001b[0;34m\u001b[0m\u001b[0;34m\u001b[0m\u001b[0m\n\u001b[0;32m---> 52\u001b[0;31m         \u001b[0mself\u001b[0m\u001b[0;34m.\u001b[0m\u001b[0m_open\u001b[0m\u001b[0;34m(\u001b[0m\u001b[0msource\u001b[0m\u001b[0;34m,\u001b[0m \u001b[0moptions\u001b[0m\u001b[0;34m=\u001b[0m\u001b[0moptions\u001b[0m\u001b[0;34m,\u001b[0m \u001b[0mmemory_pool\u001b[0m\u001b[0;34m=\u001b[0m\u001b[0mmemory_pool\u001b[0m\u001b[0;34m)\u001b[0m\u001b[0;34m\u001b[0m\u001b[0;34m\u001b[0m\u001b[0m\n\u001b[0m\u001b[1;32m     53\u001b[0m \u001b[0;34m\u001b[0m\u001b[0m\n",
            "\u001b[0;32m/usr/local/lib/python3.10/dist-packages/pyarrow/ipc.pxi\u001b[0m in \u001b[0;36mpyarrow.lib._RecordBatchStreamReader._open\u001b[0;34m()\u001b[0m\n",
            "\u001b[0;32m/usr/local/lib/python3.10/dist-packages/pyarrow/error.pxi\u001b[0m in \u001b[0;36mpyarrow.lib.pyarrow_internal_check_status\u001b[0;34m()\u001b[0m\n",
            "\u001b[0;32m/usr/local/lib/python3.10/dist-packages/pyarrow/types.pxi\u001b[0m in \u001b[0;36mpyarrow.lib._datatype_to_pep3118\u001b[0;34m()\u001b[0m\n",
            "\u001b[0;32m/usr/lib/python3.10/socket.py\u001b[0m in \u001b[0;36mreadinto\u001b[0;34m(self, b)\u001b[0m\n\u001b[1;32m    704\u001b[0m             \u001b[0;32mtry\u001b[0m\u001b[0;34m:\u001b[0m\u001b[0;34m\u001b[0m\u001b[0;34m\u001b[0m\u001b[0m\n\u001b[0;32m--> 705\u001b[0;31m                 \u001b[0;32mreturn\u001b[0m \u001b[0mself\u001b[0m\u001b[0;34m.\u001b[0m\u001b[0m_sock\u001b[0m\u001b[0;34m.\u001b[0m\u001b[0mrecv_into\u001b[0m\u001b[0;34m(\u001b[0m\u001b[0mb\u001b[0m\u001b[0;34m)\u001b[0m\u001b[0;34m\u001b[0m\u001b[0;34m\u001b[0m\u001b[0m\n\u001b[0m\u001b[1;32m    706\u001b[0m             \u001b[0;32mexcept\u001b[0m \u001b[0mtimeout\u001b[0m\u001b[0;34m:\u001b[0m\u001b[0;34m\u001b[0m\u001b[0;34m\u001b[0m\u001b[0m\n",
            "\u001b[0;31mKeyboardInterrupt\u001b[0m: ",
            "\nDuring handling of the above exception, another exception occurred:\n",
            "\u001b[0;31mKeyboardInterrupt\u001b[0m                         Traceback (most recent call last)",
            "\u001b[0;32m<ipython-input-38-067409f2cda4>\u001b[0m in \u001b[0;36m<cell line: 3>\u001b[0;34m()\u001b[0m\n\u001b[1;32m      1\u001b[0m \u001b[0;31m# Top 50 products in terms of purchases\u001b[0m\u001b[0;34m\u001b[0m\u001b[0;34m\u001b[0m\u001b[0m\n\u001b[1;32m      2\u001b[0m \u001b[0;34m\u001b[0m\u001b[0m\n\u001b[0;32m----> 3\u001b[0;31m \u001b[0mproducts\u001b[0m\u001b[0;34m.\u001b[0m\u001b[0msort\u001b[0m\u001b[0;34m(\u001b[0m\u001b[0;34m'purchases'\u001b[0m\u001b[0;34m,\u001b[0m \u001b[0mascending\u001b[0m\u001b[0;34m=\u001b[0m\u001b[0;32mFalse\u001b[0m\u001b[0;34m)\u001b[0m\u001b[0;34m.\u001b[0m\u001b[0mtoPandas\u001b[0m\u001b[0;34m(\u001b[0m\u001b[0;34m)\u001b[0m\u001b[0;34m.\u001b[0m\u001b[0mhead\u001b[0m\u001b[0;34m(\u001b[0m\u001b[0;36m50\u001b[0m\u001b[0;34m)\u001b[0m\u001b[0;34m\u001b[0m\u001b[0;34m\u001b[0m\u001b[0m\n\u001b[0m",
            "\u001b[0;32m/usr/local/lib/python3.10/dist-packages/pyspark/sql/pandas/conversion.py\u001b[0m in \u001b[0;36mtoPandas\u001b[0;34m(self)\u001b[0m\n\u001b[1;32m    129\u001b[0m \u001b[0;34m\u001b[0m\u001b[0m\n\u001b[1;32m    130\u001b[0m                     \u001b[0mself_destruct\u001b[0m \u001b[0;34m=\u001b[0m \u001b[0mjconf\u001b[0m\u001b[0;34m.\u001b[0m\u001b[0marrowPySparkSelfDestructEnabled\u001b[0m\u001b[0;34m(\u001b[0m\u001b[0;34m)\u001b[0m\u001b[0;34m\u001b[0m\u001b[0;34m\u001b[0m\u001b[0m\n\u001b[0;32m--> 131\u001b[0;31m                     \u001b[0mbatches\u001b[0m \u001b[0;34m=\u001b[0m \u001b[0mself\u001b[0m\u001b[0;34m.\u001b[0m\u001b[0m_collect_as_arrow\u001b[0m\u001b[0;34m(\u001b[0m\u001b[0msplit_batches\u001b[0m\u001b[0;34m=\u001b[0m\u001b[0mself_destruct\u001b[0m\u001b[0;34m)\u001b[0m\u001b[0;34m\u001b[0m\u001b[0;34m\u001b[0m\u001b[0m\n\u001b[0m\u001b[1;32m    132\u001b[0m                     \u001b[0;32mif\u001b[0m \u001b[0mlen\u001b[0m\u001b[0;34m(\u001b[0m\u001b[0mbatches\u001b[0m\u001b[0;34m)\u001b[0m \u001b[0;34m>\u001b[0m \u001b[0;36m0\u001b[0m\u001b[0;34m:\u001b[0m\u001b[0;34m\u001b[0m\u001b[0;34m\u001b[0m\u001b[0m\n\u001b[1;32m    133\u001b[0m                         \u001b[0mtable\u001b[0m \u001b[0;34m=\u001b[0m \u001b[0mpyarrow\u001b[0m\u001b[0;34m.\u001b[0m\u001b[0mTable\u001b[0m\u001b[0;34m.\u001b[0m\u001b[0mfrom_batches\u001b[0m\u001b[0;34m(\u001b[0m\u001b[0mbatches\u001b[0m\u001b[0;34m)\u001b[0m\u001b[0;34m\u001b[0m\u001b[0;34m\u001b[0m\u001b[0m\n",
            "\u001b[0;32m/usr/local/lib/python3.10/dist-packages/pyspark/sql/pandas/conversion.py\u001b[0m in \u001b[0;36m_collect_as_arrow\u001b[0;34m(self, split_batches)\u001b[0m\n\u001b[1;32m    282\u001b[0m             \u001b[0;32mwith\u001b[0m \u001b[0munwrap_spark_exception\u001b[0m\u001b[0;34m(\u001b[0m\u001b[0;34m)\u001b[0m\u001b[0;34m:\u001b[0m\u001b[0;34m\u001b[0m\u001b[0;34m\u001b[0m\u001b[0m\n\u001b[1;32m    283\u001b[0m                 \u001b[0;31m# Join serving thread and raise any exceptions from collectAsArrowToPython\u001b[0m\u001b[0;34m\u001b[0m\u001b[0;34m\u001b[0m\u001b[0m\n\u001b[0;32m--> 284\u001b[0;31m                 \u001b[0mjsocket_auth_server\u001b[0m\u001b[0;34m.\u001b[0m\u001b[0mgetResult\u001b[0m\u001b[0;34m(\u001b[0m\u001b[0;34m)\u001b[0m\u001b[0;34m\u001b[0m\u001b[0;34m\u001b[0m\u001b[0m\n\u001b[0m\u001b[1;32m    285\u001b[0m \u001b[0;34m\u001b[0m\u001b[0m\n\u001b[1;32m    286\u001b[0m         \u001b[0;31m# Separate RecordBatches from batch order indices in results\u001b[0m\u001b[0;34m\u001b[0m\u001b[0;34m\u001b[0m\u001b[0m\n",
            "\u001b[0;32m/usr/local/lib/python3.10/dist-packages/py4j/java_gateway.py\u001b[0m in \u001b[0;36m__call__\u001b[0;34m(self, *args)\u001b[0m\n\u001b[1;32m   1319\u001b[0m             \u001b[0mproto\u001b[0m\u001b[0;34m.\u001b[0m\u001b[0mEND_COMMAND_PART\u001b[0m\u001b[0;34m\u001b[0m\u001b[0;34m\u001b[0m\u001b[0m\n\u001b[1;32m   1320\u001b[0m \u001b[0;34m\u001b[0m\u001b[0m\n\u001b[0;32m-> 1321\u001b[0;31m         \u001b[0manswer\u001b[0m \u001b[0;34m=\u001b[0m \u001b[0mself\u001b[0m\u001b[0;34m.\u001b[0m\u001b[0mgateway_client\u001b[0m\u001b[0;34m.\u001b[0m\u001b[0msend_command\u001b[0m\u001b[0;34m(\u001b[0m\u001b[0mcommand\u001b[0m\u001b[0;34m)\u001b[0m\u001b[0;34m\u001b[0m\u001b[0;34m\u001b[0m\u001b[0m\n\u001b[0m\u001b[1;32m   1322\u001b[0m         return_value = get_return_value(\n\u001b[1;32m   1323\u001b[0m             answer, self.gateway_client, self.target_id, self.name)\n",
            "\u001b[0;32m/usr/local/lib/python3.10/dist-packages/py4j/java_gateway.py\u001b[0m in \u001b[0;36msend_command\u001b[0;34m(self, command, retry, binary)\u001b[0m\n\u001b[1;32m   1036\u001b[0m         \u001b[0mconnection\u001b[0m \u001b[0;34m=\u001b[0m \u001b[0mself\u001b[0m\u001b[0;34m.\u001b[0m\u001b[0m_get_connection\u001b[0m\u001b[0;34m(\u001b[0m\u001b[0;34m)\u001b[0m\u001b[0;34m\u001b[0m\u001b[0;34m\u001b[0m\u001b[0m\n\u001b[1;32m   1037\u001b[0m         \u001b[0;32mtry\u001b[0m\u001b[0;34m:\u001b[0m\u001b[0;34m\u001b[0m\u001b[0;34m\u001b[0m\u001b[0m\n\u001b[0;32m-> 1038\u001b[0;31m             \u001b[0mresponse\u001b[0m \u001b[0;34m=\u001b[0m \u001b[0mconnection\u001b[0m\u001b[0;34m.\u001b[0m\u001b[0msend_command\u001b[0m\u001b[0;34m(\u001b[0m\u001b[0mcommand\u001b[0m\u001b[0;34m)\u001b[0m\u001b[0;34m\u001b[0m\u001b[0;34m\u001b[0m\u001b[0m\n\u001b[0m\u001b[1;32m   1039\u001b[0m             \u001b[0;32mif\u001b[0m \u001b[0mbinary\u001b[0m\u001b[0;34m:\u001b[0m\u001b[0;34m\u001b[0m\u001b[0;34m\u001b[0m\u001b[0m\n\u001b[1;32m   1040\u001b[0m                 \u001b[0;32mreturn\u001b[0m \u001b[0mresponse\u001b[0m\u001b[0;34m,\u001b[0m \u001b[0mself\u001b[0m\u001b[0;34m.\u001b[0m\u001b[0m_create_connection_guard\u001b[0m\u001b[0;34m(\u001b[0m\u001b[0mconnection\u001b[0m\u001b[0;34m)\u001b[0m\u001b[0;34m\u001b[0m\u001b[0;34m\u001b[0m\u001b[0m\n",
            "\u001b[0;32m/usr/local/lib/python3.10/dist-packages/py4j/clientserver.py\u001b[0m in \u001b[0;36msend_command\u001b[0;34m(self, command)\u001b[0m\n\u001b[1;32m    509\u001b[0m         \u001b[0;32mtry\u001b[0m\u001b[0;34m:\u001b[0m\u001b[0;34m\u001b[0m\u001b[0;34m\u001b[0m\u001b[0m\n\u001b[1;32m    510\u001b[0m             \u001b[0;32mwhile\u001b[0m \u001b[0;32mTrue\u001b[0m\u001b[0;34m:\u001b[0m\u001b[0;34m\u001b[0m\u001b[0;34m\u001b[0m\u001b[0m\n\u001b[0;32m--> 511\u001b[0;31m                 \u001b[0manswer\u001b[0m \u001b[0;34m=\u001b[0m \u001b[0msmart_decode\u001b[0m\u001b[0;34m(\u001b[0m\u001b[0mself\u001b[0m\u001b[0;34m.\u001b[0m\u001b[0mstream\u001b[0m\u001b[0;34m.\u001b[0m\u001b[0mreadline\u001b[0m\u001b[0;34m(\u001b[0m\u001b[0;34m)\u001b[0m\u001b[0;34m[\u001b[0m\u001b[0;34m:\u001b[0m\u001b[0;34m-\u001b[0m\u001b[0;36m1\u001b[0m\u001b[0;34m]\u001b[0m\u001b[0;34m)\u001b[0m\u001b[0;34m\u001b[0m\u001b[0;34m\u001b[0m\u001b[0m\n\u001b[0m\u001b[1;32m    512\u001b[0m                 \u001b[0mlogger\u001b[0m\u001b[0;34m.\u001b[0m\u001b[0mdebug\u001b[0m\u001b[0;34m(\u001b[0m\u001b[0;34m\"Answer received: {0}\"\u001b[0m\u001b[0;34m.\u001b[0m\u001b[0mformat\u001b[0m\u001b[0;34m(\u001b[0m\u001b[0manswer\u001b[0m\u001b[0;34m)\u001b[0m\u001b[0;34m)\u001b[0m\u001b[0;34m\u001b[0m\u001b[0;34m\u001b[0m\u001b[0m\n\u001b[1;32m    513\u001b[0m                 \u001b[0;31m# Happens when a the other end is dead. There might be an empty\u001b[0m\u001b[0;34m\u001b[0m\u001b[0;34m\u001b[0m\u001b[0m\n",
            "\u001b[0;32m/usr/lib/python3.10/socket.py\u001b[0m in \u001b[0;36mreadinto\u001b[0;34m(self, b)\u001b[0m\n\u001b[1;32m    703\u001b[0m         \u001b[0;32mwhile\u001b[0m \u001b[0;32mTrue\u001b[0m\u001b[0;34m:\u001b[0m\u001b[0;34m\u001b[0m\u001b[0;34m\u001b[0m\u001b[0m\n\u001b[1;32m    704\u001b[0m             \u001b[0;32mtry\u001b[0m\u001b[0;34m:\u001b[0m\u001b[0;34m\u001b[0m\u001b[0;34m\u001b[0m\u001b[0m\n\u001b[0;32m--> 705\u001b[0;31m                 \u001b[0;32mreturn\u001b[0m \u001b[0mself\u001b[0m\u001b[0;34m.\u001b[0m\u001b[0m_sock\u001b[0m\u001b[0;34m.\u001b[0m\u001b[0mrecv_into\u001b[0m\u001b[0;34m(\u001b[0m\u001b[0mb\u001b[0m\u001b[0;34m)\u001b[0m\u001b[0;34m\u001b[0m\u001b[0;34m\u001b[0m\u001b[0m\n\u001b[0m\u001b[1;32m    706\u001b[0m             \u001b[0;32mexcept\u001b[0m \u001b[0mtimeout\u001b[0m\u001b[0;34m:\u001b[0m\u001b[0;34m\u001b[0m\u001b[0;34m\u001b[0m\u001b[0m\n\u001b[1;32m    707\u001b[0m                 \u001b[0mself\u001b[0m\u001b[0;34m.\u001b[0m\u001b[0m_timeout_occurred\u001b[0m \u001b[0;34m=\u001b[0m \u001b[0;32mTrue\u001b[0m\u001b[0;34m\u001b[0m\u001b[0;34m\u001b[0m\u001b[0m\n",
            "\u001b[0;31mKeyboardInterrupt\u001b[0m: "
          ]
        }
      ]
    },
    {
      "cell_type": "markdown",
      "source": [
        "## Collaborative Filtering"
      ],
      "metadata": {
        "id": "J7TzA6W-47fc"
      }
    },
    {
      "cell_type": "markdown",
      "source": [
        "<font size=3>A filtragem colaborativa é uma técnica usada em sistemas de recomendação para fornecer recomendações personalizadas aos usuários com base em suas interações anteriores com itens, bem como nas interações de usuários semelhantes. A matriz de interação contém informações sobre quais usuários interagiram com quais itens e em que grau.\n",
        "    \n",
        "<font size=3>O algoritmo Alternating Least Squares é uma abordagem para filtragem colaborativa que pode ser usada para treinar um modelo nesta matriz de interação. O modelo aprende fatores latentes tanto para usuários quanto para itens, que podem então ser usados ​​para fazer recomendações personalizadas e encontrar produtos semelhantes.\n",
        "    \n",
        "<font size=3>Deveríamos aplicar uma função de ponderação às interações com base na atualidade. Isso ocorre porque as interações recentes costumam ser mais indicativas das preferências atuais do usuário do que as interações mais antigas. Podemos usar uma função de decaimento de meia-vida, onde o peso dado a uma interação diminui pela metade após um determinado intervalo de tempo (20 dias). Ao ponderar mais as interações mais recentes, o algoritmo pode fornecer recomendações mais relevantes aos usuários."
      ],
      "metadata": {
        "id": "s6DfBf1w47fc"
      }
    },
    {
      "cell_type": "code",
      "source": [
        "# Plot the half-life decay function\n",
        "\n",
        "half_life = 20\n",
        "x = np.arange(0, 100)\n",
        "y = np.power(0.5, x / half_life)\n",
        "df = pd.DataFrame({'Days': x, 'Weight': y})\n",
        "\n",
        "# Plot the function\n",
        "ax = df.plot(x='Days', y='Weight')\n",
        "\n",
        "# Add vertical lines at 20 and 40 days with explanatory text\n",
        "ax.set_yticks([0, 0.25, 0.5, 0.75, 1])\n",
        "ax.axvline(x=20, linestyle='--', color='gray', ymax=0.49)\n",
        "ax.axvline(x=40, linestyle='--', color='gray', ymax=0.25)\n",
        "ax.axhline(y=0.5, linestyle='--', color='gray', xmax=0.23)\n",
        "ax.axhline(y=0.25, linestyle='--', color='gray', xmax=0.41)\n",
        "ax.text(20, 0.4, 'Half-Life', ha='center')\n",
        "ax.text(40, 0.15, '2 Half Lives', ha='center')\n",
        "\n",
        "plt.show()"
      ],
      "metadata": {
        "id": "AloY1ZL647fc",
        "colab": {
          "base_uri": "https://localhost:8080/",
          "height": 449
        },
        "outputId": "b0ea3011-af64-42af-d2d7-a02bc04a4b30"
      },
      "execution_count": null,
      "outputs": [
        {
          "output_type": "display_data",
          "data": {
            "text/plain": [
              "<Figure size 640x480 with 1 Axes>"
            ],
            "image/png": "[encoded data removed]"
          },
          "metadata": {}
        }
      ]
    },
    {
      "cell_type": "code",
      "source": [
        "df.show(5, truncate=False)\n",
        "# Get the timestamp of the most recent event in the df\n",
        "# last_date = df.select(f.max('event_time')).collect()[0][0]\n",
        "# df = df.withColumn('last_date', f.lit(last_date))\n",
        "\n",
        "# # Calculate the recency of each event in terms of days\n",
        "# df = df.withColumn('recency', (f.col('last_date').cast('double') - f.col('event_time').cast('double')) / 86400)\n",
        "# df = df.drop('last_date')\n",
        "\n",
        "# # Half-life decay function, the value of an event is halved after 20 days\n",
        "# df = df.withColumn('recency_coef', f.expr('exp(ln(0.5)*recency/20)'))"
      ],
      "metadata": {
        "scrolled": true,
        "id": "rGZb767a47fc",
        "colab": {
          "base_uri": "https://localhost:8080/",
          "height": 349
        },
        "outputId": "d0f09060-5063-4bac-cfef-9196f10d7fcc"
      },
      "execution_count": null,
      "outputs": [
        {
          "output_type": "error",
          "ename": "AttributeError",
          "evalue": "'DataFrame' object has no attribute 'show'",
          "traceback": [
            "\u001b[0;31m---------------------------------------------------------------------------\u001b[0m",
            "\u001b[0;31mAttributeError\u001b[0m                            Traceback (most recent call last)",
            "\u001b[0;32m<ipython-input-54-1402e296a39f>\u001b[0m in \u001b[0;36m<cell line: 1>\u001b[0;34m()\u001b[0m\n\u001b[0;32m----> 1\u001b[0;31m \u001b[0mdf\u001b[0m\u001b[0;34m.\u001b[0m\u001b[0mshow\u001b[0m\u001b[0;34m(\u001b[0m\u001b[0;36m5\u001b[0m\u001b[0;34m,\u001b[0m \u001b[0mtruncate\u001b[0m\u001b[0;34m=\u001b[0m\u001b[0;32mFalse\u001b[0m\u001b[0;34m)\u001b[0m\u001b[0;34m\u001b[0m\u001b[0;34m\u001b[0m\u001b[0m\n\u001b[0m\u001b[1;32m      2\u001b[0m \u001b[0;31m# Get the timestamp of the most recent event in the df\u001b[0m\u001b[0;34m\u001b[0m\u001b[0;34m\u001b[0m\u001b[0m\n\u001b[1;32m      3\u001b[0m \u001b[0;31m# last_date = df.select(f.max('event_time')).collect()[0][0]\u001b[0m\u001b[0;34m\u001b[0m\u001b[0;34m\u001b[0m\u001b[0m\n\u001b[1;32m      4\u001b[0m \u001b[0;31m# df = df.withColumn('last_date', f.lit(last_date))\u001b[0m\u001b[0;34m\u001b[0m\u001b[0;34m\u001b[0m\u001b[0m\n\u001b[1;32m      5\u001b[0m \u001b[0;34m\u001b[0m\u001b[0m\n",
            "\u001b[0;32m/usr/local/lib/python3.10/dist-packages/pandas/core/generic.py\u001b[0m in \u001b[0;36m__getattr__\u001b[0;34m(self, name)\u001b[0m\n\u001b[1;32m   5987\u001b[0m         ):\n\u001b[1;32m   5988\u001b[0m             \u001b[0;32mreturn\u001b[0m \u001b[0mself\u001b[0m\u001b[0;34m[\u001b[0m\u001b[0mname\u001b[0m\u001b[0;34m]\u001b[0m\u001b[0;34m\u001b[0m\u001b[0;34m\u001b[0m\u001b[0m\n\u001b[0;32m-> 5989\u001b[0;31m         \u001b[0;32mreturn\u001b[0m \u001b[0mobject\u001b[0m\u001b[0;34m.\u001b[0m\u001b[0m__getattribute__\u001b[0m\u001b[0;34m(\u001b[0m\u001b[0mself\u001b[0m\u001b[0;34m,\u001b[0m \u001b[0mname\u001b[0m\u001b[0;34m)\u001b[0m\u001b[0;34m\u001b[0m\u001b[0;34m\u001b[0m\u001b[0m\n\u001b[0m\u001b[1;32m   5990\u001b[0m \u001b[0;34m\u001b[0m\u001b[0m\n\u001b[1;32m   5991\u001b[0m     \u001b[0;32mdef\u001b[0m \u001b[0m__setattr__\u001b[0m\u001b[0;34m(\u001b[0m\u001b[0mself\u001b[0m\u001b[0;34m,\u001b[0m \u001b[0mname\u001b[0m\u001b[0;34m:\u001b[0m \u001b[0mstr\u001b[0m\u001b[0;34m,\u001b[0m \u001b[0mvalue\u001b[0m\u001b[0;34m)\u001b[0m \u001b[0;34m->\u001b[0m \u001b[0;32mNone\u001b[0m\u001b[0;34m:\u001b[0m\u001b[0;34m\u001b[0m\u001b[0;34m\u001b[0m\u001b[0m\n",
            "\u001b[0;31mAttributeError\u001b[0m: 'DataFrame' object has no attribute 'show'"
          ]
        }
      ]
    },
    {
      "cell_type": "code",
      "source": [
        "# Find the number of views, carts and purchases for each user-product pair\n",
        "interactions = df.groupby(['user_id', 'product_id']).agg(sum(when(df['event_type'] == 'view', 1) * df['recency_coef']).alias('views'),\n",
        "                                                         sum(when(df['event_type'] == 'cart', 1) * df['recency_coef']).alias('carts'),\n",
        "                                                         sum(when(df['event_type'] == 'purchase', 1) * df['recency_coef']).alias('purchases'))\n",
        "interactions = interactions.na.fill(0)"
      ],
      "metadata": {
        "id": "_t3nlyFA47fd"
      },
      "execution_count": null,
      "outputs": []
    },
    {
      "cell_type": "markdown",
      "source": [
        "<font size=3>The interaction matrix is calculated by assigning weights to each type of user interaction. These weighted interactions are then summed to get the total interaction score, which has been subject to a half-life decay function to give more weight to recent interactions. Finally, the values are transformed by taking the logarithm with base 10 and capping the maximum value at 100 to ensure scalability and consistency, while reducing the effect of outliers. The resulting matrix provides a measure of strength of the relationship between users and products."
      ],
      "metadata": {
        "id": "0lTaPYaP47fd"
      }
    },
    {
      "cell_type": "code",
      "source": [
        "def calculate_interaction_matrix(df, view_weight=0.1, cart_weight=0.3, purchase_weight=1.0):\n",
        "\n",
        "    # Create a new column with the weighted interaction value\n",
        "    df = df.withColumn('interaction', view_weight * col('views') + cart_weight * col('carts') + purchase_weight * col('purchases'))\n",
        "\n",
        "    # Use log10 value for views, carts and purchases\n",
        "    df = df.withColumn('interaction', log10(col('interaction') + 1))\n",
        "\n",
        "    # Set the max possible value to 100 (log100 = 2)\n",
        "    df = df.withColumn('interaction', when(col('interaction') > 2, 2).otherwise(col('interaction')))\n",
        "\n",
        "    return df"
      ],
      "metadata": {
        "id": "ptjRMAcb47fd"
      },
      "execution_count": null,
      "outputs": []
    },
    {
      "cell_type": "code",
      "source": [
        "interaction_matrix = calculate_interaction_matrix(interactions)"
      ],
      "metadata": {
        "scrolled": true,
        "id": "VQ7krFMM47fd"
      },
      "execution_count": null,
      "outputs": []
    },
    {
      "cell_type": "code",
      "source": [
        "#  User-product pairs with the highest interaction scores\n",
        "\n",
        "interaction_matrix.sort('interaction', ascending=False).show()"
      ],
      "metadata": {
        "id": "Iqkrq-QP47fd"
      },
      "execution_count": null,
      "outputs": []
    },
    {
      "cell_type": "markdown",
      "source": [
        "<font size=3>After creating an interaction matrix that quantifies user-product interactions using weights, we can feed this matrix into the ALS algorithm. This algorithm uses the matrix to learn the latent factors of both users and products, which can then be used to make personalized recommendations for users.\n",
        "    \n",
        "<font size=3>To optimize the performance of the ALS algorithm, we can use a cross-validation pipeline, which allows us to test and fine-tune different sets of parameters to find the best configuration for our recommendation system. Ultimately, the goal is to create a model that can make accurate and relevant product recommendations to users based on their previous interactions with the system."
      ],
      "metadata": {
        "id": "OsdHOGji47fe"
      }
    },
    {
      "cell_type": "code",
      "source": [
        "from pyspark.ml.recommendation import ALS\n",
        "from pyspark.ml.evaluation import RegressionEvaluator\n",
        "from pyspark.ml.tuning import CrossValidator, ParamGridBuilder\n",
        "from pyspark.ml import Pipeline\n",
        "\n",
        "def cross_validate_als(interaction_matrix):\n",
        "\n",
        "    # Define the ALS model\n",
        "    als = ALS(userCol='user_id', itemCol='product_id', ratingCol='interaction',\n",
        "              nonnegative=True, coldStartStrategy='drop', implicitPrefs=True)\n",
        "\n",
        "    # Define the parameter grid for hyperparameter tuning\n",
        "    param_grid = ParamGridBuilder() \\\n",
        "        .addGrid(als.rank, [5, 10, 15, 20]) \\\n",
        "        .addGrid(als.regParam, [0.005, 0.01, 0.05, 0.1]) \\\n",
        "        .addGrid(als.alpha, [0, 1.0, 5.0]) \\\n",
        "        .build()\n",
        "\n",
        "    # Define the evaluator for computing the evaluation metrics\n",
        "    evaluator = RegressionEvaluator(metricName='rmse', labelCol='interaction', predictionCol='prediction')\n",
        "\n",
        "    # Define the cross-validator for performing 5-fold cross-validation\n",
        "    cv = CrossValidator(estimator=als, estimatorParamMaps=param_grid, evaluator=evaluator, numFolds=5, collectSubModels=False)\n",
        "\n",
        "    # Define the pipeline for fitting the model and evaluating it\n",
        "    pipeline = Pipeline(stages=[cv])\n",
        "\n",
        "    # Fit the pipeline on the data and evaluate the model\n",
        "    model = pipeline.fit(interaction_matrix)\n",
        "\n",
        "    return model"
      ],
      "metadata": {
        "id": "O8O6z5OD47fe"
      },
      "execution_count": null,
      "outputs": []
    },
    {
      "cell_type": "code",
      "source": [
        "model = cross_validate_als(interaction_matrix)\n",
        "\n",
        "# Model with the lowest RMSE value\n",
        "bestModel = model.stages[0].bestModel\n",
        "\n",
        "# Make predictions\n",
        "predictions = bestModel.transform(interaction_matrix)\n",
        "\n",
        "# Calculate RMSE and MAE metrics\n",
        "evaluator = RegressionEvaluator(metricName='rmse', labelCol='interaction', predictionCol='prediction')\n",
        "rmse = evaluator.setMetricName('rmse').evaluate(predictions)\n",
        "mae = evaluator.setMetricName('mae').evaluate(predictions)\n",
        "print(' rmse:' + str(rmse) + ' mae:' + str(mae))\n",
        "\n",
        "# Print the parameters of the model with the lowest RMSE value\n",
        "regParam = bestModel._java_obj.parent().getRegParam()\n",
        "rank = bestModel._java_obj.parent().getRank()\n",
        "alpha = bestModel._java_obj.parent().getAlpha()\n",
        "print('rank:' + str(rank) + ' regParam:' + str(regParam) + ' alpha:' + str(alpha))"
      ],
      "metadata": {
        "id": "FyDP72yC47fe"
      },
      "execution_count": null,
      "outputs": []
    },
    {
      "cell_type": "markdown",
      "source": [
        "<font size=3>After identifying the best set of parameters, we can build an ALS model directly, instead of running the cross-validation function repeatedly. This approach saves time and resources, making it more efficient to generate product recommendations."
      ],
      "metadata": {
        "id": "zvDl-LpO47fe"
      }
    },
    {
      "cell_type": "code",
      "source": [
        "from pyspark.ml.recommendation import ALS\n",
        "from pyspark.ml.evaluation import RegressionEvaluator\n",
        "\n",
        "def simple_als(interaction_matrix):\n",
        "\n",
        "    # Train-test split\n",
        "    (train, test) = interaction_matrix.randomSplit([0.8, 0.2])\n",
        "\n",
        "    # Initialize the model with the optimized parameters\n",
        "    als = ALS(userCol='user_id', itemCol='product_id', ratingCol='interaction',\n",
        "              alpha=1, regParam=0.005, rank=15, implicitPrefs=True,\n",
        "              nonnegative=True, coldStartStrategy='drop')\n",
        "\n",
        "    # Fit the ALS model on the ratings data\n",
        "    model = als.fit(train)\n",
        "\n",
        "    # Make predictions\n",
        "    predictions = model.transform(test)\n",
        "\n",
        "    # Calculate the RMSE and MAE metrics\n",
        "    evaluator = RegressionEvaluator(metricName='rmse', labelCol='interaction', predictionCol='prediction')\n",
        "    rmse = evaluator.evaluate(predictions)\n",
        "    mae = evaluator.setMetricName('mae').evaluate(predictions)\n",
        "    print('test rmse:' + str(rmse) + ' mae:' + str(mae))\n",
        "\n",
        "    return model"
      ],
      "metadata": {
        "id": "cefdB2-h47fe"
      },
      "execution_count": null,
      "outputs": []
    },
    {
      "cell_type": "code",
      "source": [
        "als_model = simple_als(interaction_matrix)"
      ],
      "metadata": {
        "id": "zIoUwyCy47ff"
      },
      "execution_count": null,
      "outputs": []
    },
    {
      "cell_type": "markdown",
      "source": [
        "## Recommend Products for Users"
      ],
      "metadata": {
        "id": "V6wxWUAl47ff"
      }
    },
    {
      "cell_type": "code",
      "source": [
        "# 3 random users\n",
        "user_subset = [565606905, 570112140, 564068124]\n",
        "\n",
        "# Recommend top 500 products for the users\n",
        "recommendations = sc.createDataFrame([(user, 0) for user in user_subset], ['user_id', 'product_id'])\n",
        "recommendations = als_model.recommendForUserSubset(recommendations, 500)"
      ],
      "metadata": {
        "id": "6lBRziL747ff"
      },
      "execution_count": null,
      "outputs": []
    },
    {
      "cell_type": "code",
      "source": [
        "recommendations.show()"
      ],
      "metadata": {
        "id": "FgnxSpCE47ff"
      },
      "execution_count": null,
      "outputs": []
    },
    {
      "cell_type": "code",
      "source": [
        "# Select user 564068124\n",
        "\n",
        "recs_for_user_1 = sc.createDataFrame(recommendations.collect()[1][1])"
      ],
      "metadata": {
        "id": "71210jfa47ff"
      },
      "execution_count": null,
      "outputs": []
    },
    {
      "cell_type": "code",
      "source": [
        "# Products with the highest number of interactions for the user\n",
        "\n",
        "interactions.filter(col('user_id') == 564068124).sort('purchases', ascending=False).show()"
      ],
      "metadata": {
        "id": "S1Kg6VTJ47ff"
      },
      "execution_count": null,
      "outputs": []
    },
    {
      "cell_type": "markdown",
      "source": [
        "<font size=3>When generating recommendations, we can enhance the collaborative filtering (CF) scores by incorporating additional features that result in more engaging and personalized recommendations. With this function, we combine the CF scores with two other features: the conversion rate of the product and the spending habits of the user.\n",
        "\n",
        "<font size=3>The calculation involves taking a weighted average of the three features. By default, the CF score carries the most weight, but we can adjust the weights as needed. Before the average calculation, all features are scaled between 0 and 1 to ensure a consistent range. After the calculation, the features are scaled back to their original values.\n",
        "\n",
        "<font size=3>Let's delve into the specific features:\n",
        "\n",
        "<font size=3>- CF Score: This represents the confidence of user engagement, calculated by the ALS algorithm. It captures the preferences and patterns in user-product interactions.\n",
        "\n",
        "<font size=3>- Conversion Rate: This measures the purchase per view rate of the products. We prioritize products with higher conversion rates, as they have a greater likelihood of being purchased after being discovered. This helps ensure the recommendations are effective in driving actual sales.\n",
        "\n",
        "<font size=3>- Spending Habits: We gauge the spending habits of users based on their average relative price of purchases. This helps identify whether users tend to lean towards higher-priced, more luxurious products or prefer more affordable options to avoid recommending products that significantly deviate from the user's budget. Additionally, we introduce a spending booster coefficient, which slightly favors products priced above the user's preferences in order to generate more revenue. However, caution is necessary in setting this coefficient to prevent a negative impact of engagement in our recommendations.\n",
        "\n",
        "<font size=3>By combining these features and fine-tuning the weights, we aim to generate recommendations that are both engaging and aligned with users' preferences and behaviors."
      ],
      "metadata": {
        "id": "Yq05eent47ff"
      }
    },
    {
      "cell_type": "code",
      "source": [
        "def calculate_recommendation_scores_for_user(user_id, recs, products, users, coef_als_score=0.8, coef_conversion_rate=0.1, coef_spending_habit=0.1, coef_spending_booster=0.05):\n",
        "\n",
        "    recs = recs.join(products['product_id', 'purchase_per_view', 'relative_price'], on='product_id')\n",
        "\n",
        "    user_avg_relative_price = users.filter(col('user_id') == user_id)['user_id', 'avg_relative_price_purchased'].collect()[0][1]\n",
        "\n",
        "\n",
        "    # Scale CF rating score, ranges from 0 to 2\n",
        "    recs = recs.withColumn('rating', col('rating') / 2)\n",
        "\n",
        "    # Scale purchase_per_view rate, ranges from 0 to 0.075\n",
        "    recs = recs.withColumn('purchase_per_view', col('purchase_per_view') / 0.075)\n",
        "\n",
        "    # Scale relative price value, ranges from -5 to 5\n",
        "    recs = recs.withColumn('relative_price', (col('relative_price') + 5) / 10)\n",
        "\n",
        "    # Scale users average relative price value, ranges from -1 to 1\n",
        "    user_avg_relative_price = (user_avg_relative_price + 1) / 2\n",
        "\n",
        "\n",
        "    # Calculate the recommendation scores\n",
        "    recs = recs.withColumn('recommendation_score', ((recs['rating'] * coef_als_score) + (recs['purchase_per_view'] * coef_conversion_rate) - abs(user_avg_relative_price + coef_spending_booster - recs['relative_price']) * coef_spending_habit) / (coef_als_score + coef_conversion_rate + coef_spending_habit))\n",
        "\n",
        "\n",
        "    # Scale back CF rating score, ranges from 0 to 2\n",
        "    recs = recs.withColumn('rating', col('rating') * 2)\n",
        "\n",
        "    # Scale back purchase_per_view rate, ranges from 0 to 0.075\n",
        "    recs = recs.withColumn('purchase_per_view', col('purchase_per_view') * 0.075)\n",
        "\n",
        "    # Scale back relative price value, ranges from -1 to 1\n",
        "    recs = recs.withColumn('relative_price', col('relative_price') * 2 - 1)\n",
        "\n",
        "    # Scale back average relative price value, ranges from -5 to 5\n",
        "    user_avg_relative_price = user_avg_relative_price * 10 - 5\n",
        "\n",
        "    return recs"
      ],
      "metadata": {
        "id": "pMCKVXgJ47ff"
      },
      "execution_count": null,
      "outputs": []
    },
    {
      "cell_type": "code",
      "source": [
        "recs_user = calculate_recommendation_scores_for_user(564068124, recs_for_user_1, products, users)"
      ],
      "metadata": {
        "id": "nOLP-Kjw47fg"
      },
      "execution_count": null,
      "outputs": []
    },
    {
      "cell_type": "code",
      "source": [
        "# Add all product features to the recommendations dataframe\n",
        "\n",
        "#recs_user = recs_user.join(product_features, on='product_id', how='left')"
      ],
      "metadata": {
        "id": "0X9C-hpu47fg"
      },
      "execution_count": null,
      "outputs": []
    },
    {
      "cell_type": "code",
      "source": [
        "# Products with the highest recommendation scores\n",
        "\n",
        "recs_user.sort('recommendation_score', ascending=False).show()"
      ],
      "metadata": {
        "id": "RjHRMrFG47fg"
      },
      "execution_count": null,
      "outputs": []
    },
    {
      "cell_type": "markdown",
      "source": [
        "<font size=3>To improve the relevance and novelty of recommendations, we can filter the recommendations to include only non-interacted products. This filtering process allows us to exclude products that the user has already engaged with, whether through purchases, views, or showing disinterest.\n",
        "\n",
        "<font size=3>By filtering out these previously interacted products, we can create a dedicated section such as \"New Products for You\" or \"Discover Something Different.\" This section aims to provide users with fresh and unseen options, helping them explore new products and avoid redundancy.\n",
        "\n",
        "<font size=3>The filtering step ensures that the recommended products are tailored to the user's preferences and needs by prioritizing items they haven't yet interacted with. This approach enhances the user experience by introducing them to a wider range of products, increasing the chances of discovering something exciting and enticing."
      ],
      "metadata": {
        "id": "wbriiASe47fg"
      }
    },
    {
      "cell_type": "code",
      "source": [
        "# Filter non-interacted products in recommendations using left-anti join\n",
        "non_interacted_products = recs_user.join(interactions.filter(col('user_id') == 564068124), on='product_id', how='leftanti')\n",
        "\n",
        "# Non-interacted products with the highest recommendation scores\n",
        "non_interacted_products.sort('recommendation_score', ascending=False).show()"
      ],
      "metadata": {
        "id": "apG7NeIM47fg"
      },
      "execution_count": null,
      "outputs": []
    },
    {
      "cell_type": "markdown",
      "source": [
        "## Recommend Products for Products"
      ],
      "metadata": {
        "id": "zFP-EH2y47fg"
      }
    },
    {
      "cell_type": "markdown",
      "source": [
        "<font size=3>When a user is browsing a specific product, we can enhance their shopping experience by providing recommendations for similar products. These recommendations are focused on the product itself, rather than being personalized to the user's individual preferences.\n",
        "\n",
        "<font size=3>To accomplish this, we leverage the power of the ALS algorithm, which calculates item factors based on the interactions and latent features of the products. These item factors capture essential characteristics and traits of each product, allowing us to understand their underlying similarities.\n",
        "\n",
        "<font size=3>To find the most similar products, we convert the item factors into vectors, which represent the multidimensional space of product features. Then, we employ the Locality-Sensitive Hashing (LSH) algorithm, a technique used in recommendation systems, to efficiently identify vectors that are close to each other in this high-dimensional space.\n",
        "\n",
        "<font size=3>By utilizing LSH, we can identify products with similar item factors, indicating a shared set of characteristics, attributes, or customer preferences. These similar products can range from alternatives within the same category to complementary items in a different category that users might also find appealing.\n",
        "\n",
        "<font size=3>The goal of recommending similar products is to provide users with additional options that align with their current interests and preferences. This approach not only helps users discover related items that they might have missed but also enhances their overall shopping experience by offering a wider selection of products to consider."
      ],
      "metadata": {
        "id": "5PoK-2DW47fg"
      }
    },
    {
      "cell_type": "code",
      "source": [
        "from pyspark.ml.linalg import Vectors\n",
        "from pyspark.ml.feature import VectorAssembler\n",
        "from pyspark.ml.feature import Normalizer\n",
        "from pyspark.ml.feature import SQLTransformer\n",
        "\n",
        "# Get the product factors from the ALS model\n",
        "product_vectors = best_model.itemFactors\n",
        "product_vectors = product_vectors.rdd.map(lambda row: (row[0], Vectors.dense(row[1])))\n",
        "product_vectors = product_vectors.toDF(['product_id', 'features'])\n",
        "\n",
        "# Use VectorAssembler to convert the features column into a dense vector column\n",
        "assembler = VectorAssembler(inputCols=['features'], outputCol='vector')\n",
        "product_vectors = assembler.transform(product_vectors)\n",
        "\n",
        "# Normalize the vectors\n",
        "normalizer = Normalizer(inputCol='vector', outputCol='norm_vector')\n",
        "product_vectors = normalizer.transform(product_vectors)\n",
        "\n",
        "# Get the normalized vector representation of the selected product\n",
        "product_vector = product_vectors.where(col('product_id') == 5100067).select('norm_vector').collect()[0][0]\n",
        "product_vector"
      ],
      "metadata": {
        "id": "qOA8ePc247fg"
      },
      "execution_count": null,
      "outputs": []
    },
    {
      "cell_type": "markdown",
      "source": [
        "<font size=3>The LSH algorithm is a technique used for approximate nearest neighbor search. It is designed to efficiently identify items that are close to each other in a high-dimensional space.\n",
        "\n",
        "<font size=3>LSH works by randomly projecting high-dimensional data onto lower-dimensional space using hash functions. The idea behind LSH is to ensure that similar items have a higher probability of being hashed into the same buckets, while dissimilar items are more likely to be hashed into different buckets. This allows for efficient filtering of candidate nearest neighbors within the same bucket, reducing the search space.\n",
        "\n",
        "<font size=3>The parameters being used in the LSH algorithm are as follows:\n",
        "\n",
        "<font size=3>- numHashTables: This parameter sets the number of hash tables to be used by the LSH algorithm. Increasing the number of hash tables improves the accuracy of the nearest neighbor search but also increases the computation cost.\n",
        "\n",
        "<font size=3>- bucketLength: This parameter determines the size of the buckets used for organizing the data. It controls the trade-off between precision and performance. Smaller bucket lengths provide better precision but require more computational resources.\n"
      ],
      "metadata": {
        "id": "B2cnZITW47fg"
      }
    },
    {
      "cell_type": "code",
      "source": [
        "from pyspark.ml.feature import BucketedRandomProjectionLSH\n",
        "\n",
        "brp = BucketedRandomProjectionLSH(inputCol=\"norm_vector\", outputCol=\"neighbors\", numHashTables=5, bucketLength=0.1)\n",
        "brp_model = brp.fit(product_vectors)\n",
        "\n",
        "# Find the nearest neighbors of a specific product\n",
        "query = product_vectors.filter(col('product_id') == 5100067).select('norm_vector').first()[0]\n",
        "neighbors = brp_model.approxNearestNeighbors(product_vectors, query, numNearestNeighbors=50)"
      ],
      "metadata": {
        "id": "sTN3Z5oG47fg"
      },
      "execution_count": null,
      "outputs": []
    },
    {
      "cell_type": "code",
      "source": [
        "# Print the most similar products, the first entry is the product itself\n",
        "\n",
        "neighbors.select('product_id', 'distCol').show(truncate=False)"
      ],
      "metadata": {
        "id": "0EKuToeH47fg"
      },
      "execution_count": null,
      "outputs": []
    },
    {
      "cell_type": "markdown",
      "source": [
        "<font size=3>When calculating recommendation scores for products, we use a similar approach as in user recommendations. We measure the similarity between products based on their cosine distance and combine it with other features like conversion rate and relative price.\n",
        "\n",
        "<font size=3>The function operates in a similar way to the user recommendation process, but with a small difference. Instead of calculating users' spending habits, we consider the relative price of the product that is currently being viewed. This helps us find products that have similar price ranges."
      ],
      "metadata": {
        "id": "S7TLQFXa47fg"
      }
    },
    {
      "cell_type": "code",
      "source": [
        "def calculate_recommendation_scores_for_products(recs, products, coef_distance_score=0.8, coef_conversion_rate=0.1, coef_relative_price=0.1, coef_spending_booster=0.05):\n",
        "\n",
        "    recs = recs.join(products['product_id', 'purchase_per_view', 'relative_price'], on='product_id')\n",
        "\n",
        "    # Scale distance of nearest neigbors in the unit vector space, ranges from 0 to sqrt(2)\n",
        "    recs = recs.withColumn('distCol', (math.sqrt(2) - col('distCol')) / math.sqrt(2))\n",
        "\n",
        "    # Scale purchase_per_view rate, ranges from 0 to 0.075\n",
        "    recs = recs.withColumn('purchase_per_view', col('purchase_per_view') / 0.075)\n",
        "\n",
        "    # Scale relative price value, ranges from -5 to 5\n",
        "    recs = recs.withColumn('relative_price', (col('relative_price') + 5) / 10)\n",
        "\n",
        "    # Find the relative price of the chosen product\n",
        "    product_relative_price = recs.filter(col('distCol') == 1)['product_id', 'relative_price'].collect()[0][1]\n",
        "\n",
        "    # Scale product's average relative price value, ranges from -5 to 5\n",
        "    product_relative_price = (product_relative_price + 5) / 10\n",
        "\n",
        "\n",
        "    # Calculate the recommendation scores\n",
        "    recs = recs.withColumn('recommendation_score', ((recs['distCol'] * coef_distance_score) + (recs['purchase_per_view'] * coef_conversion_rate) - abs(product_relative_price + coef_spending_booster - recs['relative_price']) * coef_relative_price) / (coef_distance_score + coef_conversion_rate + coef_relative_price))\n",
        "\n",
        "    # Remove the searched product from the recommendations\n",
        "    recs = recs.filter(col('distCol') != 1)\n",
        "\n",
        "\n",
        "    # Scale back distance of nearest neigbors in the unit vector space, ranges from 0 to sqrt(2)\n",
        "    recs = recs.withColumn('distCol', math.sqrt(2) - col('distCol') * math.sqrt(2))\n",
        "\n",
        "    # Scale back purchase_per_view rate, ranges from 0 to 0.075\n",
        "    recs = recs.withColumn('purchase_per_view', col('purchase_per_view') * 0.075)\n",
        "\n",
        "    # Scale back relative price value, ranges from -5 to 5\n",
        "    recs = recs.withColumn('relative_price', col('relative_price') * 10 - 5)\n",
        "\n",
        "    # Scale product's average relative price value, ranges from -5 to 5\n",
        "    product_relative_price = product_relative_price * 10 - 5\n",
        "\n",
        "    return recs"
      ],
      "metadata": {
        "id": "u_KLDOVf47fh"
      },
      "execution_count": null,
      "outputs": []
    },
    {
      "cell_type": "code",
      "source": [
        "recs_product = calculate_recommendation_scores_for_products(neighbors.select('product_id', 'distCol'), products)"
      ],
      "metadata": {
        "id": "5IBdm0tH47fh"
      },
      "execution_count": null,
      "outputs": []
    },
    {
      "cell_type": "code",
      "source": [
        "# Add all product features to the recommendations dataframe\n",
        "\n",
        "#recs_product = recs_product.join(product_features, on='product_id', how='left')"
      ],
      "metadata": {
        "id": "u-qvWGuO47fh"
      },
      "execution_count": null,
      "outputs": []
    },
    {
      "cell_type": "code",
      "source": [
        "# Display recommendations with Pandas\n",
        "\n",
        "recs_product.sort('recommendation_score', ascending=False).toPandas() \\\n",
        "    .style.bar(color='lightgreen', subset='distCol') \\\n",
        "    .bar(color='pink', subset='purchase_per_view') \\\n",
        "    .bar(color='tan', subset='relative_price') \\\n",
        "    .bar(color='lightblue', subset='recommendation_score')\n"
      ],
      "metadata": {
        "scrolled": true,
        "id": "PmHKA9gz47fh"
      },
      "execution_count": null,
      "outputs": []
    },
    {
      "cell_type": "markdown",
      "source": [
        "## Recommend Products to Users Viewing a Product"
      ],
      "metadata": {
        "id": "xFc42SyV47fi"
      }
    },
    {
      "cell_type": "markdown",
      "source": [
        "<font size=3>By combining both approaches of recommending products to users and finding similar products, we can create a more personalized recommendation system. This allows us to suggest products that are not only relevant to the user's preferences but also similar to the one they are currently viewing.\n",
        "\n",
        "<font size=3>Using collaborative filtering and the user's historical data, we generate recommendations tailored to their individual tastes. Simultaneously, we utilize the product similarity analysis, taking into account factors such as cosine distance and other relevant features. This enables us to suggest similar products to the one the user is currently interested in, creating a more personalized and engaging experience.\n",
        "\n",
        "<font size=3>In essence, this hybrid approach combines the benefits of personalized recommendations and finding similar products, resulting in a comprehensive and effective recommendation system."
      ],
      "metadata": {
        "id": "9LsNoM9E47fi"
      }
    },
    {
      "cell_type": "code",
      "source": [
        "# Join the two recommendation dataframes, top 50 most similar products and top 500 recs for the user\n",
        "\n",
        "recs_user = recs_user.withColumnRenamed('recommendation_score', 'recommendation_score_user')\n",
        "recs_paired = recs_product.join(recs_user['product_id', 'recommendation_score_user'], on='product_id', how='left')"
      ],
      "metadata": {
        "id": "0GqO9f5v47fi"
      },
      "execution_count": null,
      "outputs": []
    },
    {
      "cell_type": "markdown",
      "source": [
        "<font size=3>When finding the most similar products, it's important to note that not all of them will have a corresponding recommendation score. This is because we calculate scores only for the top 500 products specifically for users. As a result, some of the top 50 similar products may not have user scores available.\n",
        "\n",
        "<font size=3>To handle this situation, we need to assign placeholder scores for those products without user scores. One naive approach is to fill these scores with a slightly reduced version of the lowest score. This ensures that the products without user scores still receive some consideration in the recommendation process."
      ],
      "metadata": {
        "id": "Z3I6456247fi"
      }
    },
    {
      "cell_type": "code",
      "source": [
        "# Fill missing user-based recommendation scores with 10% less of the lowest recommendation score\n",
        "min_user_score = recs_paired.select(min('recommendation_score_user')).collect()[0][0]\n",
        "recs_paired = recs_paired.na.fill(min_user_score * 0.9)\n",
        "\n",
        "# Calculate a paired score as the average of the recommendation score and user score, weighted equally\n",
        "recs_paired = recs_paired.withColumn('paired_score', col('recommendation_score') * 0.5 + col('recommendation_score_user') * 0.5)\n"
      ],
      "metadata": {
        "id": "-APvNEbl47fi"
      },
      "execution_count": null,
      "outputs": []
    },
    {
      "cell_type": "code",
      "source": [
        "# Add all product features to the recommendations dataframe\n",
        "\n",
        "#recs_paired = recs_paired.join(product_features, on='product_id', how='left')"
      ],
      "metadata": {
        "id": "O9ENOEtK47fi"
      },
      "execution_count": null,
      "outputs": []
    },
    {
      "cell_type": "code",
      "source": [
        "recs_paired.sort('paired_score', ascending=False).toPandas()\\\n",
        "           .head(50).style.bar(color='lightblue', subset='recommendation_score')\\\n",
        "           .bar(color='pink', subset='recommendation_score_user')\\\n",
        "           .bar(color='lightgreen', subset='paired_score')\n"
      ],
      "metadata": {
        "scrolled": true,
        "id": "4l-OCY8j47fi"
      },
      "execution_count": null,
      "outputs": []
    },
    {
      "cell_type": "markdown",
      "source": [
        "<font size=3>In conclusion, the recommendation engine we have developed combines collaborative filtering with additional features to generate personalized and engaging product recommendations. By incorporating factors such as conversion rates, spending habits, and similarity of products, we aim to provide users with relevant suggestions tailored to their preferences.\n",
        "\n",
        "<font size=3>When the recommendation engine is deployed, it continuously learns from user interactions and updates its recommendations accordingly, giving more weight to recent interactions. As users engage with the system, their feedback influences the weights and relevance of different features, making the recommendations more accurate and aligned with user preferences over time. This dynamic nature ensures that the recommendations stay relevant and reflect the evolving interests of users.\n",
        "\n",
        "<font size=3>To evaluate the performance of our recommendations, we can utilize various metrics such as click-through rates, conversion rates, and user feedback. These metrics provide insights into the effectiveness of the recommendations and help us assess their impact on user engagement and sales.\n",
        "\n",
        "<font size=3>Based on the performance metrics, we can make informed decisions to adjust the recommendation strategy. For example, if a product receives limited engagement despite being recommended frequently, we can reevaluate its position in the recommendation list. By placing it further down or even removing it temporarily, we can improve the overall effectiveness of the recommendations and prioritize more engaging products.\n",
        "\n",
        "<font size=3>By actively monitoring and analyzing performance metrics, we can iteratively enhance the recommendation engine, optimize the weighting of different features, and fine-tune the algorithms to deliver more personalized, accurate, and impactful recommendations.\n",
        "\n",
        "<font size=3>Overall, this recommendation engine leverages collaborative filtering, additional features, and user feedback to create a dynamic and effective system that enhances user experience, boosts engagement, and drives sales by suggesting relevant products tailored to each user's preferences."
      ],
      "metadata": {
        "id": "JDJg9Y-v47fi"
      }
    }
  ]
}